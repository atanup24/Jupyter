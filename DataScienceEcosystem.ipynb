{
 "cells": [
  {
   "cell_type": "markdown",
   "id": "1a23c95c-71cf-4394-a6c4-45981ebea6a9",
   "metadata": {},
   "source": [
    "# Data Science Tools and Ecosystem"
   ]
  },
  {
   "cell_type": "markdown",
   "id": "beb7461d-c17d-4dc2-85fd-d0cc606212da",
   "metadata": {},
   "source": [
    "## Introduction\n",
    "\n",
    "In this notebook, Data Science Tools and Ecosystem are summarized, providing an overview of the most commonly used tools and libraries in the field of data science.\n"
   ]
  },
  {
   "cell_type": "markdown",
   "id": "304df403-4dd6-4bb0-9a22-ddc0c25dc471",
   "metadata": {},
   "source": [
    "## Data Science Languages\n",
    "\n",
    "Some of the popular languages that Data Scientists use are:\n",
    "\n",
    "1. **Python**: Widely used for its simplicity and versatility, with extensive libraries for data analysis and machine learning.\n",
    "2. **R**: Known for its strong statistical capabilities and data visualization packages.\n",
    "3. **SQL**: Essential for data retrieval and manipulation in databases.\n",
    "4. **Julia**: Growing in popularity for high-performance numerical and scientific computing.\n",
    "5. **Java**: Often used in big data technologies like Hadoop and for production-level machine learning applications.\n"
   ]
  },
  {
   "cell_type": "markdown",
   "id": "ff0e3bc2-4461-4d46-a78a-2443579a785f",
   "metadata": {},
   "source": [
    "## Data Science Libraries\n",
    "\n",
    "Some of the commonly used libraries by Data Scientists include:\n",
    "\n",
    "1. **Pandas**: Provides data structures and data analysis tools for Python. It is highly used for data manipulation and cleaning.\n",
    "2. **NumPy**: A fundamental library for numerical computations in Python, providing support for arrays and matrices.\n",
    "3. **Matplotlib**: A plotting library for creating static, interactive, and animated visualizations in Python.\n",
    "4. **Scikit-learn**: A machine learning library for Python that provides simple and efficient tools for data mining and data analysis.\n",
    "5. **TensorFlow**: An open-source library for machine learning and deep learning, developed by Google Brain.\n",
    "6. **Keras**: A high-level neural networks API, written in Python and capable of running on top of TensorFlow, CNTK, or Theano.\n",
    "7. **Seaborn**: Based on Matplotlib, it provides a high-level interface for drawing attractive and informative statistical graphics.\n"
   ]
  },
  {
   "cell_type": "markdown",
   "id": "e0698013-bef9-4c73-80d8-4687af2c1828",
   "metadata": {},
   "source": [
    "## Data Science Tools\n",
    "\n",
    "| Data Science Tools           |\n",
    "|------------------------------|\n",
    "| Jupyter Notebook             |\n",
    "| RStudio                      |\n",
    "| Apache Zeppelin              |\n"
   ]
  },
  {
   "cell_type": "markdown",
   "id": "1e7be6db-9e19-4a2c-ba23-5584c1c9c126",
   "metadata": {},
   "source": [
    "### Below are a few examples of evaluating arithmetic expressions in Python.\n",
    "\n"
   ]
  },
  {
   "cell_type": "code",
   "execution_count": 4,
   "id": "db9b5598-494e-4f7d-9e33-3b4b14effc69",
   "metadata": {},
   "outputs": [
    {
     "data": {
      "text/plain": [
       "17"
      ]
     },
     "execution_count": 4,
     "metadata": {},
     "output_type": "execute_result"
    }
   ],
   "source": [
    "# This is a simple arithmetic expression to multiply then add integers.\n",
    "(3 * 4) + 5\n"
   ]
  },
  {
   "cell_type": "code",
   "execution_count": 5,
   "id": "a23b35a7-7044-49c4-9924-a7b7ad6ebd64",
   "metadata": {},
   "outputs": [
    {
     "data": {
      "text/plain": [
       "3.3333333333333335"
      ]
     },
     "execution_count": 5,
     "metadata": {},
     "output_type": "execute_result"
    }
   ],
   "source": [
    "# This will convert 200 minutes to hours by dividing by 60.\n",
    "minutes = 200\n",
    "hours = minutes / 60\n",
    "hours\n"
   ]
  },
  {
   "cell_type": "markdown",
   "id": "c514e84f-dc55-4ae7-93b9-d6ebb4b696d8",
   "metadata": {},
   "source": [
    "**Objectives:**\n",
    "\n",
    "- List popular languages for Data Science\n",
    "- Highlight commonly used data science libraries\n",
    "- Introduce development environment tools for data science\n",
    "- Demonstrate simple arithmetic operations in Python\n",
    "- Convert units using Python\n"
   ]
  },
  {
   "cell_type": "markdown",
   "id": "a3e4b181-71d7-486d-83e7-3f20fc7c0f84",
   "metadata": {},
   "source": [
    "## Author\n",
    "\n",
    "Atanu Panja\n"
   ]
  },
  {
   "cell_type": "code",
   "execution_count": null,
   "id": "69cbb7a6-bb65-473b-b191-6d2641d11f4c",
   "metadata": {},
   "outputs": [],
   "source": []
  }
 ],
 "metadata": {
  "kernelspec": {
   "display_name": "Python 3 (ipykernel)",
   "language": "python",
   "name": "python3"
  },
  "language_info": {
   "codemirror_mode": {
    "name": "ipython",
    "version": 3
   },
   "file_extension": ".py",
   "mimetype": "text/x-python",
   "name": "python",
   "nbconvert_exporter": "python",
   "pygments_lexer": "ipython3",
   "version": "3.12.4"
  }
 },
 "nbformat": 4,
 "nbformat_minor": 5
}
